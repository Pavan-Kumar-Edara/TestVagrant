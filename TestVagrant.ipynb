{
 "cells": [
  {
   "cell_type": "code",
   "execution_count": 13,
   "id": "dc950f16",
   "metadata": {},
   "outputs": [
    {
     "name": "stdout",
     "output_type": "stream",
     "text": [
      "[('TOI', 'BM'), ('Hindu', 'BM'), ('Hindu', 'HT'), ('BM', 'TOI'), ('BM', 'Hindu'), ('BM', 'HT'), ('HT', 'Hindu'), ('HT', 'BM')]\n",
      "[('Hindu', 'BM'), ('BM', 'Hindu'), ('BM', 'HT'), ('HT', 'BM')]\n"
     ]
    }
   ],
   "source": [
    "class Newspaper:\n",
    "    def __init__(self, name: str, monday: float, tuesday: float, wednesday: float,\n",
    "               thursday: float, friday: float, saturday: float, sunday: float):\n",
    "        self.name = name\n",
    "        self.prices = {\n",
    "            \"Monday\": monday,\n",
    "            \"Tuesday\": tuesday,\n",
    "            \"Wednesday\": wednesday,\n",
    "            \"Thursday\": thursday,\n",
    "            \"Friday\": friday,\n",
    "            \"Saturday\": saturday,\n",
    "            \"Sunday\": sunday\n",
    "        }\n",
    "\n",
    "    def get_weekly_price(self) -> float:\n",
    "        return sum(self.prices.values())\n",
    "\n",
    "\n",
    "class SubscriptionCalculator:\n",
    "    def __init__(self, budget: float, newspapers: List[Newspaper]):\n",
    "        self.budget = budget\n",
    "        self.newspapers = newspapers\n",
    "\n",
    "    def get_possible_combinations(self) -> list[tuple[str, str]]:\n",
    "        combinations = []\n",
    "        for newspaper1 in self.newspapers:\n",
    "            for newspaper2 in self.newspapers:\n",
    "                if newspaper1 == newspaper2:\n",
    "                    continue\n",
    "                total_price = newspaper1.get_weekly_price() + newspaper2.get_weekly_price()\n",
    "                if total_price <= self.budget:\n",
    "                    combinations.append((newspaper1.name, newspaper2.name))\n",
    "        return combinations\n",
    "\n",
    "\n",
    "\n",
    "toi = Newspaper(\"TOI\", 3, 3, 3, 3, 3, 5, 6)\n",
    "hindu = Newspaper(\"Hindu\", 2.5, 2.5, 2.5, 2.5, 2.5, 4, 4)\n",
    "et = Newspaper(\"ET\", 4, 4, 4, 4, 4, 4, 10)\n",
    "bm = Newspaper(\"BM\", 1.5, 1.5, 1.5, 1.5, 1.5, 1.5, 1.5)\n",
    "ht = Newspaper(\"HT\", 2, 2, 2, 2, 2, 4, 4)\n",
    "\n",
    "calculator = SubscriptionCalculator(40, [toi, hindu, et, bm, ht])\n",
    "combinations = calculator.get_possible_combinations()\n",
    "print(combinations)\n",
    "\n",
    "calculator = SubscriptionCalculator(35, [toi, hindu, et, bm, ht])\n",
    "combinations = calculator.get_possible_combinations()\n",
    "print(combinations)"
   ]
  },
  {
   "cell_type": "code",
   "execution_count": null,
   "id": "f5d262e6",
   "metadata": {},
   "outputs": [],
   "source": []
  }
 ],
 "metadata": {
  "kernelspec": {
   "display_name": "Python 3 (ipykernel)",
   "language": "python",
   "name": "python3"
  },
  "language_info": {
   "codemirror_mode": {
    "name": "ipython",
    "version": 3
   },
   "file_extension": ".py",
   "mimetype": "text/x-python",
   "name": "python",
   "nbconvert_exporter": "python",
   "pygments_lexer": "ipython3",
   "version": "3.10.7"
  }
 },
 "nbformat": 4,
 "nbformat_minor": 5
}
